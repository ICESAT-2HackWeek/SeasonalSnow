{
 "cells": [
  {
   "cell_type": "code",
   "execution_count": 1,
   "metadata": {},
   "outputs": [],
   "source": [
    "import rasterio as rio\n",
    "from rasterio.plot import plotting_extent\n",
    "import rasterio.plot\n",
    "import numpy as np\n",
    "#from topolib.subsetDat import subsetBBox;\n",
    "#from topolib import gda_lib;\n",
    "from pyproj import Proj, transform\n",
    "from icepyx import icesat2data as ipd\n",
    "import matplotlib.pyplot as plt \n",
    "import sys\n",
    "from pathlib import Path\n",
    "import cartopy.crs as ccrs\n",
    "\n",
    "#%matplotlib inline\n",
    "%matplotlib widget"
   ]
  },
  {
   "cell_type": "code",
   "execution_count": 2,
   "metadata": {},
   "outputs": [
    {
     "name": "stdout",
     "output_type": "stream",
     "text": [
      "/home/jovyan/SeasonalSnow/contributors/IsobelLawrence\n"
     ]
    }
   ],
   "source": [
    "!pwd"
   ]
  },
  {
   "cell_type": "markdown",
   "metadata": {},
   "source": [
    "# Find ICESat2 data within domain near Yellowknife-Henderson weather station\n",
    "Yellowknife-Henderson weather station is one of the few in the Northwest Territories than records daily snowfall\n",
    "\n",
    "See: https://climate.weather.gc.ca/climate_data/daily_data_e.html?hlyRange=%7C&dlyRange=2006-07-01%7C2020-05-31&mlyRange=2006-07-01%7C2007-11-01&StationID=45467&Prov=NT&urlExtension=_e.html&searchType=stnProv&optLimit=yearRange&StartYear=2019&EndYear=2020&selRowPerPage=25&Line=71&Month=12&Day=16&lstProvince=NT&timeframe=2&Year=2019\n",
    "\n",
    "Weather station is at lat/lon: 62°27'00.000\"N, 114°23'00.000\"W, next to 'Frame Lake'. Let's create bounding box around Frame lake and then search for IS2 ATL03 data"
   ]
  },
  {
   "cell_type": "code",
   "execution_count": 3,
   "metadata": {},
   "outputs": [],
   "source": [
    "#'LowerLeft_Lon': L,\n",
    "#'LowerLeft_Lat': B,\n",
    "#'UpperRight_Lon': R,\n",
    "#'UpperRight_Lat': T\n",
    "\n",
    "#cmd+/ to comment out a block of code!\n",
    "\n",
    "L=-114.4\n",
    "B=62.446\n",
    "R=-114.38\n",
    "T=62.47\n",
    "\n",
    "# L=-115\n",
    "# B=62\n",
    "# R=-113\n",
    "# T=63"
   ]
  },
  {
   "cell_type": "markdown",
   "metadata": {},
   "source": [
    "Plot this region"
   ]
  },
  {
   "cell_type": "code",
   "execution_count": 4,
   "metadata": {},
   "outputs": [
    {
     "data": {
      "application/vnd.jupyter.widget-view+json": {
       "model_id": "aff3a8228d8d48e09085f744c8d08dcb",
       "version_major": 2,
       "version_minor": 0
      },
      "text/plain": [
       "Canvas(toolbar=Toolbar(toolitems=[('Home', 'Reset original view', 'home', 'home'), ('Back', 'Back to previous …"
      ]
     },
     "metadata": {},
     "output_type": "display_data"
    },
    {
     "data": {
      "text/plain": [
       "<matplotlib.collections.PathCollection at 0x7fd5956d7150>"
      ]
     },
     "execution_count": 4,
     "metadata": {},
     "output_type": "execute_result"
    }
   ],
   "source": [
    "#var= 'heights' #choose which variable we want to plot\n",
    "\n",
    "## we will want to set colorbar parameters based on the chosen variable\n",
    "#vmin=-10\n",
    "#vmax=30\n",
    "#ticks=np.arange(-20,100,5)\n",
    "\n",
    "\n",
    "plt.figure(figsize=(8,8), dpi= 90)\n",
    "ax = plt.axes(projection=ccrs.NorthPolarStereo(central_longitude=-114)) # choose polar sterographic for projection\n",
    "ax.coastlines(resolution='50m', color='black', linewidth=1)\n",
    "ax.set_extent([-180, 180, 60, 90], ccrs.PlateCarree())\n",
    "plt.scatter(L,B,s=10,color='red',transform=ccrs.PlateCarree())\n",
    "#plt.scatter(df03['lons'][::1000], df03['lats'][::1000],c=df03[var][::1000], cmap='plasma', vmin=vmin,vmax=vmax,transform=ccrs.PlateCarree())\n",
    "#plt.colorbar(label=var, shrink=0.5, ticks=ticks,extend='both')\n",
    "\n",
    "#rect1 = patches.Rectangle((x1, y1), xwidth, ywidth,linewidth = 1,\n",
    "#                              edgecolor = 0,  facecolor='none')\n",
    "#ax = plt.gca()\n",
    "#    ax.add_patch(rect1)"
   ]
  },
  {
   "cell_type": "code",
   "execution_count": null,
   "metadata": {},
   "outputs": [],
   "source": []
  },
  {
   "cell_type": "code",
   "execution_count": 5,
   "metadata": {},
   "outputs": [],
   "source": [
    "# Our data folder \n",
    "data_home = Path('/home/jovyan/shared/data-Isobel_Rosie/ATL03')\n",
    "                 \n",
    "# Create folder if it doesn't exist\n",
    "data_home.mkdir(exist_ok=True)"
   ]
  },
  {
   "cell_type": "code",
   "execution_count": 8,
   "metadata": {},
   "outputs": [
    {
     "name": "stdout",
     "output_type": "stream",
     "text": [
      "-rw-r--r-- 1 jovyan jovyan 92477568 Jun 17 10:35 /home/jovyan/shared/data-Isobel_Rosie/ATL03/processed_ATL03_20191008052407_01730502_003_01.h5\n",
      "-rw-r--r-- 1 jovyan jovyan 70286802 Jun 17 20:12 /home/jovyan/shared/data-Isobel_Rosie/ATL03/processed_ATL03_20200103140535_01200605_003_01.h5\n",
      "-rw-r--r-- 1 jovyan jovyan 72689069 Jun 17 20:12 /home/jovyan/shared/data-Isobel_Rosie/ATL03/processed_ATL03_20200127003045_04780603_003_01.h5\n",
      "-rw-r--r-- 1 jovyan jovyan 71211624 Jun 17 20:13 /home/jovyan/shared/data-Isobel_Rosie/ATL03/processed_ATL03_20200201124138_05620605_003_01.h5\n",
      "-rw-r--r-- 1 jovyan jovyan 72616867 Jun 17 20:12 /home/jovyan/shared/data-Isobel_Rosie/ATL03/processed_ATL03_20200224230645_09200603_003_01.h5\n",
      "-rw-r--r-- 1 jovyan jovyan 71545760 Jun 17 20:12 /home/jovyan/shared/data-Isobel_Rosie/ATL03/processed_ATL03_20200301111738_10040605_003_01.h5\n",
      "-rw-r--r-- 1 jovyan jovyan 74838016 Jun 17 20:13 /home/jovyan/shared/data-Isobel_Rosie/ATL03/processed_ATL03_20200328213426_00360703_003_01.h5\n",
      "-rw-r--r-- 1 jovyan jovyan 67905179 Jun 17 20:13 /home/jovyan/shared/data-Isobel_Rosie/ATL03/processed_ATL03_20200403094520_01200705_003_01.h5\n"
     ]
    }
   ],
   "source": [
    "!ls -l /home/jovyan/shared/data-Isobel_Rosie/ATL03/*"
   ]
  },
  {
   "cell_type": "code",
   "execution_count": 9,
   "metadata": {},
   "outputs": [],
   "source": [
    "short_name = 'ATL03'\n",
    "spatial_extent = [L,B,R,T]\n",
    "date_range = ['2019-01-01','2020-06-30']\n",
    "\n",
    "# spatial_extent = [148, -81, 162, -80]  # Byrd\n",
    "# date_range = ['2018-10-14','2018-12-22']\n",
    "\n",
    "region = ipd.Icesat2Data(short_name, spatial_extent, date_range)"
   ]
  },
  {
   "cell_type": "code",
   "execution_count": 10,
   "metadata": {},
   "outputs": [
    {
     "name": "stdout",
     "output_type": "stream",
     "text": [
      "product:     ATL03\n",
      "dates:       ['2019-01-01', '2020-06-30']\n",
      "start time:  00:00:00\n",
      "end time:    23:59:59\n",
      "version:     003\n",
      "extent:      ['bounding box', [-114.4, 62.446, -114.38, 62.47]]\n",
      "\n",
      "DATA:\n",
      "('Number of available granules', 29)\n",
      "('Average size of granules (MB)', 1555.9673577999206)\n",
      "('Total size of all granules (MB)', 45123.0533761977)\n"
     ]
    },
    {
     "data": {
      "application/vnd.jupyter.widget-view+json": {
       "model_id": "ad6eada0df604cb993047d99a5aef8cc",
       "version_major": 2,
       "version_minor": 0
      },
      "text/plain": [
       "Canvas(toolbar=Toolbar(toolitems=[('Home', 'Reset original view', 'home', 'home'), ('Back', 'Back to previous …"
      ]
     },
     "metadata": {},
     "output_type": "display_data"
    }
   ],
   "source": [
    "print('product:    ', region.dataset)\n",
    "print('dates:      ', region.dates)\n",
    "print('start time: ', region.start_time)\n",
    "print('end time:   ', region.end_time)\n",
    "print('version:    ', region.dataset_version)\n",
    "print('extent:     ', region.spatial_extent)\n",
    "\n",
    "print('\\nDATA:')\n",
    "print('\\n'.join([str(item) for item in region.avail_granules().items()]))\n",
    "\n",
    "region.visualize_spatial_extent()"
   ]
  },
  {
   "cell_type": "code",
   "execution_count": 12,
   "metadata": {},
   "outputs": [
    {
     "data": {
      "text/plain": [
       "{'short_name': 'ATL03',\n",
       " 'version': '003',\n",
       " 'temporal': '2019-01-01T00:00:00Z,2020-06-30T23:59:59Z',\n",
       " 'bounding_box': '-114.4,62.446,-114.38,62.47'}"
      ]
     },
     "execution_count": 12,
     "metadata": {},
     "output_type": "execute_result"
    }
   ],
   "source": [
    "#build and view the parameters that will be submitted in our query\n",
    "region.CMRparams"
   ]
  },
  {
   "cell_type": "code",
   "execution_count": 22,
   "metadata": {},
   "outputs": [
    {
     "data": {
      "text/plain": [
       "['ATL03_20190105072628_01200205_003_01.h5',\n",
       " 'ATL03_20190128175143_04780203_003_01.h5',\n",
       " 'ATL03_20190203060240_05620205_003_01.h5',\n",
       " 'ATL03_20190226162745_09200203_003_01.h5',\n",
       " 'ATL03_20190304043840_10040205_003_01.h5',\n",
       " 'ATL03_20190331145525_00360303_003_01.h5',\n",
       " 'ATL03_20190406030620_01200305_003_01.h5',\n",
       " 'ATL03_20190429133124_04780303_003_01.h5',\n",
       " 'ATL03_20190505014217_05620305_003_01.h5',\n",
       " 'ATL03_20190528120721_09200303_003_01.h5']"
      ]
     },
     "execution_count": 22,
     "metadata": {},
     "output_type": "execute_result"
    }
   ],
   "source": [
    "#get a list of the available granule IDs that meet your search criteria\n",
    "region.avail_granules(ids=True)[0:10] "
   ]
  },
  {
   "cell_type": "code",
   "execution_count": 20,
   "metadata": {},
   "outputs": [
    {
     "ename": "AttributeError",
     "evalue": "'Granules' object has no attribute 'wanted'",
     "output_type": "error",
     "traceback": [
      "\u001b[0;31m---------------------------------------------------------------------------\u001b[0m",
      "\u001b[0;31mAttributeError\u001b[0m                            Traceback (most recent call last)",
      "\u001b[0;32m<ipython-input-20-c62975f0aa05>\u001b[0m in \u001b[0;36m<module>\u001b[0;34m\u001b[0m\n\u001b[0;32m----> 1\u001b[0;31m \u001b[0mregion\u001b[0m\u001b[0;34m.\u001b[0m\u001b[0mgranules\u001b[0m\u001b[0;34m.\u001b[0m\u001b[0mwanted\u001b[0m\u001b[0;34m(\u001b[0m\u001b[0;34m)\u001b[0m\u001b[0;34m\u001b[0m\u001b[0;34m\u001b[0m\u001b[0m\n\u001b[0m",
      "\u001b[0;31mAttributeError\u001b[0m: 'Granules' object has no attribute 'wanted'"
     ]
    }
   ],
   "source": [
    "region.granules.wanted()"
   ]
  },
  {
   "cell_type": "code",
   "execution_count": null,
   "metadata": {},
   "outputs": [],
   "source": []
  },
  {
   "cell_type": "code",
   "execution_count": 26,
   "metadata": {},
   "outputs": [
    {
     "name": "stdout",
     "output_type": "stream",
     "text": [
      "ATL03_20190105072628_01200205_003_01.h5\n"
     ]
    }
   ],
   "source": [
    "test_file=region.avail_granules(ids=True)[0]\n",
    "print(test_file)"
   ]
  },
  {
   "cell_type": "code",
   "execution_count": 50,
   "metadata": {
    "collapsed": true,
    "jupyter": {
     "outputs_hidden": true
    }
   },
   "outputs": [
    {
     "name": "stdout",
     "output_type": "stream",
     "text": [
      "2019-01-01\n",
      "2019-01-02\n",
      "2019-01-03\n",
      "2019-01-04\n",
      "2019-01-05\n",
      "2019-01-06\n",
      "2019-01-07\n",
      "2019-01-08\n",
      "2019-01-09\n",
      "2019-01-10\n",
      "2019-01-11\n",
      "2019-01-12\n",
      "2019-01-13\n",
      "2019-01-14\n",
      "2019-01-15\n",
      "2019-01-16\n",
      "2019-01-17\n",
      "2019-01-18\n",
      "2019-01-19\n",
      "2019-01-20\n",
      "2019-01-21\n",
      "2019-01-22\n",
      "2019-01-23\n",
      "2019-01-24\n",
      "2019-01-25\n",
      "2019-01-26\n",
      "2019-01-27\n",
      "2019-01-28\n",
      "2019-01-29\n",
      "2019-01-30\n",
      "2019-01-31\n",
      "2019-02-01\n",
      "2019-02-02\n",
      "2019-02-03\n",
      "2019-02-04\n",
      "2019-02-05\n",
      "2019-02-06\n",
      "2019-02-07\n",
      "2019-02-08\n",
      "2019-02-09\n",
      "2019-02-10\n",
      "2019-02-11\n",
      "2019-02-12\n",
      "2019-02-13\n",
      "2019-02-14\n",
      "2019-02-15\n",
      "2019-02-16\n",
      "2019-02-17\n",
      "2019-02-18\n",
      "2019-02-19\n",
      "2019-02-20\n",
      "2019-02-21\n",
      "2019-02-22\n",
      "2019-02-23\n",
      "2019-02-24\n",
      "2019-02-25\n",
      "2019-02-26\n",
      "2019-02-27\n",
      "2019-02-28\n",
      "2019-03-01\n",
      "2019-03-02\n",
      "2019-03-03\n",
      "2019-03-04\n",
      "2019-03-05\n",
      "2019-03-06\n",
      "2019-03-07\n",
      "2019-03-08\n",
      "2019-03-09\n",
      "2019-03-10\n",
      "2019-03-11\n",
      "2019-03-12\n",
      "2019-03-13\n",
      "2019-03-14\n",
      "2019-03-15\n",
      "2019-03-16\n",
      "2019-03-17\n",
      "2019-03-18\n",
      "2019-03-19\n",
      "2019-03-20\n",
      "2019-03-21\n",
      "2019-03-22\n",
      "2019-03-23\n",
      "2019-03-24\n",
      "2019-03-25\n",
      "2019-03-26\n",
      "2019-03-27\n",
      "2019-03-28\n",
      "2019-03-29\n",
      "2019-03-30\n",
      "2019-03-31\n",
      "2019-04-01\n",
      "2019-04-02\n",
      "2019-04-03\n",
      "2019-04-04\n",
      "2019-04-05\n",
      "2019-04-06\n",
      "2019-04-07\n",
      "2019-04-08\n",
      "2019-04-09\n",
      "2019-04-10\n",
      "2019-04-11\n",
      "2019-04-12\n",
      "2019-04-13\n",
      "2019-04-14\n",
      "2019-04-15\n",
      "2019-04-16\n",
      "2019-04-17\n",
      "2019-04-18\n",
      "2019-04-19\n",
      "2019-04-20\n",
      "2019-04-21\n",
      "2019-04-22\n",
      "2019-04-23\n",
      "2019-04-24\n",
      "2019-04-25\n",
      "2019-04-26\n",
      "2019-04-27\n",
      "2019-04-28\n",
      "2019-04-29\n",
      "2019-04-30\n",
      "2019-05-01\n",
      "2019-05-02\n",
      "2019-05-03\n",
      "2019-05-04\n",
      "2019-05-05\n",
      "2019-05-06\n",
      "2019-05-07\n",
      "2019-05-08\n",
      "2019-05-09\n",
      "2019-05-10\n",
      "2019-05-11\n",
      "2019-05-12\n",
      "2019-05-13\n",
      "2019-05-14\n",
      "2019-05-15\n",
      "2019-05-16\n",
      "2019-05-17\n",
      "2019-05-18\n",
      "2019-05-19\n",
      "2019-05-20\n",
      "2019-05-21\n",
      "2019-05-22\n",
      "2019-05-23\n",
      "2019-05-24\n",
      "2019-05-25\n",
      "2019-05-26\n",
      "2019-05-27\n",
      "2019-05-28\n",
      "2019-05-29\n",
      "2019-05-30\n",
      "2019-05-31\n",
      "2019-06-01\n",
      "2019-06-02\n",
      "2019-06-03\n",
      "2019-06-04\n",
      "2019-06-05\n",
      "2019-06-06\n",
      "2019-06-07\n",
      "2019-06-08\n",
      "2019-06-09\n",
      "2019-06-10\n",
      "2019-06-11\n",
      "2019-06-12\n",
      "2019-06-13\n",
      "2019-06-14\n",
      "2019-06-15\n",
      "2019-06-16\n",
      "2019-06-17\n",
      "2019-06-18\n",
      "2019-06-19\n",
      "2019-06-20\n",
      "2019-06-21\n",
      "2019-06-22\n",
      "2019-06-23\n",
      "2019-06-24\n",
      "2019-06-25\n",
      "2019-06-26\n",
      "2019-06-27\n",
      "2019-06-28\n",
      "2019-06-29\n",
      "2019-06-30\n",
      "2019-07-01\n",
      "2019-07-02\n",
      "2019-07-03\n",
      "2019-07-04\n",
      "2019-07-05\n",
      "2019-07-06\n",
      "2019-07-07\n",
      "2019-07-08\n",
      "2019-07-09\n",
      "2019-07-10\n",
      "2019-07-11\n",
      "2019-07-12\n",
      "2019-07-13\n",
      "2019-07-14\n",
      "2019-07-15\n",
      "2019-07-16\n",
      "2019-07-17\n",
      "2019-07-18\n",
      "2019-07-19\n",
      "2019-07-20\n",
      "2019-07-21\n",
      "2019-07-22\n",
      "2019-07-23\n",
      "2019-07-24\n",
      "2019-07-25\n",
      "2019-07-26\n",
      "2019-07-27\n",
      "2019-07-28\n",
      "2019-07-29\n",
      "2019-07-30\n",
      "2019-07-31\n",
      "2019-08-01\n",
      "2019-08-02\n",
      "2019-08-03\n",
      "2019-08-04\n",
      "2019-08-05\n",
      "2019-08-06\n",
      "2019-08-07\n",
      "2019-08-08\n",
      "2019-08-09\n",
      "2019-08-10\n",
      "2019-08-11\n",
      "2019-08-12\n",
      "2019-08-13\n",
      "2019-08-14\n",
      "2019-08-15\n",
      "2019-08-16\n",
      "2019-08-17\n",
      "2019-08-18\n",
      "2019-08-19\n",
      "2019-08-20\n",
      "2019-08-21\n",
      "2019-08-22\n",
      "2019-08-23\n",
      "2019-08-24\n",
      "2019-08-25\n",
      "2019-08-26\n",
      "2019-08-27\n",
      "2019-08-28\n",
      "2019-08-29\n",
      "2019-08-30\n",
      "2019-08-31\n",
      "2019-09-01\n",
      "2019-09-02\n",
      "2019-09-03\n",
      "2019-09-04\n",
      "2019-09-05\n",
      "2019-09-06\n",
      "2019-09-07\n",
      "2019-09-08\n",
      "2019-09-09\n",
      "2019-09-10\n",
      "2019-09-11\n",
      "2019-09-12\n",
      "2019-09-13\n",
      "2019-09-14\n",
      "2019-09-15\n",
      "2019-09-16\n",
      "2019-09-17\n",
      "2019-09-18\n",
      "2019-09-19\n",
      "2019-09-20\n",
      "2019-09-21\n",
      "2019-09-22\n",
      "2019-09-23\n",
      "2019-09-24\n",
      "2019-09-25\n",
      "2019-09-26\n",
      "2019-09-27\n",
      "2019-09-28\n",
      "2019-09-29\n",
      "2019-09-30\n",
      "2019-10-01\n",
      "2019-10-02\n",
      "2019-10-03\n",
      "2019-10-04\n",
      "2019-10-05\n",
      "2019-10-06\n",
      "2019-10-07\n",
      "2019-10-08\n",
      "2019-10-09\n",
      "2019-10-10\n",
      "2019-10-11\n",
      "2019-10-12\n",
      "2019-10-13\n",
      "2019-10-14\n",
      "2019-10-15\n",
      "2019-10-16\n",
      "2019-10-17\n",
      "2019-10-18\n",
      "2019-10-19\n",
      "2019-10-20\n",
      "2019-10-21\n",
      "2019-10-22\n",
      "2019-10-23\n",
      "2019-10-24\n",
      "2019-10-25\n",
      "2019-10-26\n",
      "2019-10-27\n",
      "2019-10-28\n",
      "2019-10-29\n",
      "2019-10-30\n",
      "2019-10-31\n",
      "2019-11-01\n",
      "2019-11-02\n",
      "2019-11-03\n",
      "2019-11-04\n",
      "2019-11-05\n",
      "2019-11-06\n",
      "2019-11-07\n",
      "2019-11-08\n",
      "2019-11-09\n",
      "2019-11-10\n",
      "2019-11-11\n",
      "2019-11-12\n",
      "2019-11-13\n",
      "2019-11-14\n",
      "2019-11-15\n",
      "2019-11-16\n",
      "2019-11-17\n",
      "2019-11-18\n",
      "2019-11-19\n",
      "2019-11-20\n",
      "2019-11-21\n",
      "2019-11-22\n",
      "2019-11-23\n",
      "2019-11-24\n",
      "2019-11-25\n",
      "2019-11-26\n",
      "2019-11-27\n",
      "2019-11-28\n",
      "2019-11-29\n",
      "2019-11-30\n",
      "2019-12-01\n",
      "2019-12-02\n",
      "2019-12-03\n",
      "2019-12-04\n",
      "2019-12-05\n",
      "2019-12-06\n",
      "2019-12-07\n",
      "2019-12-08\n",
      "2019-12-09\n",
      "2019-12-10\n",
      "2019-12-11\n",
      "2019-12-12\n",
      "2019-12-13\n",
      "2019-12-14\n",
      "2019-12-15\n",
      "2019-12-16\n",
      "2019-12-17\n",
      "2019-12-18\n",
      "2019-12-19\n",
      "2019-12-20\n",
      "2019-12-21\n",
      "2019-12-22\n",
      "2019-12-23\n",
      "2019-12-24\n",
      "2019-12-25\n",
      "2019-12-26\n",
      "2019-12-27\n",
      "2019-12-28\n",
      "2019-12-29\n",
      "2019-12-30\n",
      "2019-12-31\n"
     ]
    }
   ],
   "source": [
    "for d in weather.date_time:\n",
    "    print(d)"
   ]
  },
  {
   "cell_type": "code",
   "execution_count": 60,
   "metadata": {},
   "outputs": [
    {
     "data": {
      "application/vnd.jupyter.widget-view+json": {
       "model_id": "29c063050e604eefbea897ef7a53eb68",
       "version_major": 2,
       "version_minor": 0
      },
      "text/plain": [
       "Canvas(toolbar=Toolbar(toolitems=[('Home', 'Reset original view', 'home', 'home'), ('Back', 'Back to previous …"
      ]
     },
     "metadata": {},
     "output_type": "display_data"
    }
   ],
   "source": [
    "import pandas as pd\n",
    "import datetime\n",
    "import matplotlib.gridspec as gridspec\n",
    "\n",
    "weather = pd.read_csv('en_climate_daily_NT_2204110_2019_P1D.csv')\n",
    "\n",
    "weather.columns = [c.strip().lower().replace(' ', '_').replace('/', '_').replace('(','_').replace(')','_').replace('°','') for c in weather.columns]\n",
    "\n",
    "#print(weather.columns)\n",
    "\n",
    "w_dt = [datetime.datetime.strptime(d, '%Y-%m-%d') for d in weather.date_time]\n",
    "\n",
    "# date_str = '29-12-2017' # The date - 29 Dec 2017\n",
    "# format_str = '%d/%m/%Y' # The format\n",
    "# datetime_obj = datetime.datetime.strptime(date_str, format_str)\n",
    "# print(datetime_obj.date())\n",
    "\n",
    "figsize = (12,9)\n",
    "fig = plt.figure(figsize=figsize)\n",
    "gs = gridspec.GridSpec(2, 1, figure=fig)\n",
    "\n",
    "plt.plot(weather.date_time, weather.total_snow__cm_)\n",
    "plt.xlabel('date')\n",
    "plt.ylabel('snowfall (cm)')\n",
    "#locs, labels = xticks()\n",
    "plt.xticks(rotation=90,fontsize=6)\n",
    "\n",
    "plt.show()"
   ]
  },
  {
   "cell_type": "code",
   "execution_count": null,
   "metadata": {},
   "outputs": [],
   "source": []
  },
  {
   "cell_type": "code",
   "execution_count": null,
   "metadata": {},
   "outputs": [],
   "source": []
  },
  {
   "cell_type": "code",
   "execution_count": 40,
   "metadata": {},
   "outputs": [
    {
     "data": {
      "text/plain": [
       "\u001b[0;31mSignature:\u001b[0m\n",
       "\u001b[0mipd\u001b[0m\u001b[0;34m.\u001b[0m\u001b[0mIcesat2Data\u001b[0m\u001b[0;34m.\u001b[0m\u001b[0mdownload_granules\u001b[0m\u001b[0;34m(\u001b[0m\u001b[0;34m\u001b[0m\n",
       "\u001b[0;34m\u001b[0m    \u001b[0mself\u001b[0m\u001b[0;34m,\u001b[0m\u001b[0;34m\u001b[0m\n",
       "\u001b[0;34m\u001b[0m    \u001b[0mpath\u001b[0m\u001b[0;34m,\u001b[0m\u001b[0;34m\u001b[0m\n",
       "\u001b[0;34m\u001b[0m    \u001b[0mverbose\u001b[0m\u001b[0;34m=\u001b[0m\u001b[0;32mFalse\u001b[0m\u001b[0;34m,\u001b[0m\u001b[0;34m\u001b[0m\n",
       "\u001b[0;34m\u001b[0m    \u001b[0msubset\u001b[0m\u001b[0;34m=\u001b[0m\u001b[0;32mTrue\u001b[0m\u001b[0;34m,\u001b[0m\u001b[0;34m\u001b[0m\n",
       "\u001b[0;34m\u001b[0m    \u001b[0mrestart\u001b[0m\u001b[0;34m=\u001b[0m\u001b[0;32mFalse\u001b[0m\u001b[0;34m,\u001b[0m\u001b[0;34m\u001b[0m\n",
       "\u001b[0;34m\u001b[0m    \u001b[0;34m**\u001b[0m\u001b[0mkwargs\u001b[0m\u001b[0;34m,\u001b[0m\u001b[0;34m\u001b[0m\n",
       "\u001b[0;34m\u001b[0m\u001b[0;34m)\u001b[0m\u001b[0;34m\u001b[0m\u001b[0;34m\u001b[0m\u001b[0m\n",
       "\u001b[0;31mDocstring:\u001b[0m\n",
       "Downloads the data ordered using order_granules.\n",
       "\n",
       "Parameters\n",
       "----------\n",
       "path : string\n",
       "    String with complete path to desired download location.\n",
       "verbose : boolean, default False\n",
       "    Print out all feedback available from the order process.\n",
       "    Progress information is automatically printed regardless of the value of verbose.\n",
       "subset : boolean, default True\n",
       "    Apply subsetting to the data order from the NSIDC, returning only data that meets the\n",
       "    subset parameters. Spatial and temporal subsetting based on the input parameters happens\n",
       "    by default when subset=True, but additional subsetting options are available.\n",
       "    Spatial subsetting returns all data that are within the area of interest (but not complete\n",
       "    granules. This eliminates false-positive granules returned by the metadata-level search)\n",
       "restart: boolean, default false\n",
       "    If previous download was terminated unexpectedly. Run again with restart set to True to continue. \n",
       "**kwargs : key-value pairs\n",
       "    Additional parameters to be passed to the subsetter.\n",
       "    By default temporal and spatial subset keys are passed.\n",
       "    Acceptable key values are ['format','projection','projection_parameters','Coverage'].\n",
       "    The variable 'Coverage' list should be constructed using the `order_vars.wanted` attribute of the object.\n",
       "    At this time (2020-05), only variable ('Coverage') parameters will be automatically formatted.\n",
       "\n",
       "See Also\n",
       "--------\n",
       "granules.download\n",
       "\u001b[0;31mFile:\u001b[0m      /srv/conda/envs/notebook/lib/python3.7/site-packages/icepyx/core/icesat2data.py\n",
       "\u001b[0;31mType:\u001b[0m      function\n"
      ]
     },
     "metadata": {},
     "output_type": "display_data"
    }
   ],
   "source": [
    "ipd.Icesat2Data.download_granules?\n"
   ]
  },
  {
   "cell_type": "code",
   "execution_count": 42,
   "metadata": {},
   "outputs": [],
   "source": [
    "polygons = [granule['polygons'] for granule in region.granules.avail]"
   ]
  },
  {
   "cell_type": "code",
   "execution_count": 46,
   "metadata": {},
   "outputs": [
    {
     "data": {
      "text/plain": [
       "[['80.11254119920325 -104.83294460220542 61.18421494056679 -114.62866866670758 59.534481326880396 -114.98987432428096 59.55678611383296 -115.62747567417355 61.20767873724507 -115.29923131320781 80.17859740110205 -106.686020668391 80.11254119920325 -104.83294460220542']]"
      ]
     },
     "execution_count": 46,
     "metadata": {},
     "output_type": "execute_result"
    }
   ],
   "source": [
    "polygons[0]"
   ]
  },
  {
   "cell_type": "code",
   "execution_count": null,
   "metadata": {},
   "outputs": [],
   "source": [
    "region.download_granules[0]"
   ]
  },
  {
   "cell_type": "code",
   "execution_count": null,
   "metadata": {},
   "outputs": [],
   "source": [
    "'2020-02-11'"
   ]
  },
  {
   "cell_type": "markdown",
   "metadata": {},
   "source": [
    "# Download the data"
   ]
  },
  {
   "cell_type": "code",
   "execution_count": 38,
   "metadata": {},
   "outputs": [
    {
     "name": "stdout",
     "output_type": "stream",
     "text": [
      "you dont have the file\n"
     ]
    },
    {
     "ename": "KeyboardInterrupt",
     "evalue": "Interrupted by user",
     "output_type": "error",
     "traceback": [
      "\u001b[0;31m---------------------------------------------------------------------------\u001b[0m",
      "\u001b[0;31mKeyboardInterrupt\u001b[0m                         Traceback (most recent call last)",
      "\u001b[0;32m<ipython-input-38-4a69663c4afc>\u001b[0m in \u001b[0;36m<module>\u001b[0;34m\u001b[0m\n\u001b[1;32m      7\u001b[0m \u001b[0;32mif\u001b[0m \u001b[0;32mnot\u001b[0m \u001b[0mlist\u001b[0m\u001b[0;34m(\u001b[0m\u001b[0mdata_home\u001b[0m\u001b[0;34m.\u001b[0m\u001b[0mglob\u001b[0m\u001b[0;34m(\u001b[0m\u001b[0;34m'*'\u001b[0m\u001b[0;34m+\u001b[0m\u001b[0mtest_file\u001b[0m\u001b[0;34m+\u001b[0m\u001b[0;34m'*'\u001b[0m\u001b[0;34m)\u001b[0m\u001b[0;34m)\u001b[0m\u001b[0;34m:\u001b[0m\u001b[0;34m\u001b[0m\u001b[0;34m\u001b[0m\u001b[0m\n\u001b[1;32m      8\u001b[0m     \u001b[0mprint\u001b[0m\u001b[0;34m(\u001b[0m\u001b[0;34m'you dont have the file'\u001b[0m\u001b[0;34m)\u001b[0m\u001b[0;34m\u001b[0m\u001b[0;34m\u001b[0m\u001b[0m\n\u001b[0;32m----> 9\u001b[0;31m     \u001b[0mregion\u001b[0m\u001b[0;34m.\u001b[0m\u001b[0mearthdata_login\u001b[0m\u001b[0;34m(\u001b[0m\u001b[0mname\u001b[0m\u001b[0;34m,\u001b[0m \u001b[0memail\u001b[0m\u001b[0;34m)\u001b[0m\u001b[0;34m\u001b[0m\u001b[0;34m\u001b[0m\u001b[0m\n\u001b[0m\u001b[1;32m     10\u001b[0m     \u001b[0mregion\u001b[0m\u001b[0;34m.\u001b[0m\u001b[0mdownload_granules\u001b[0m\u001b[0;34m[\u001b[0m\u001b[0;36m0\u001b[0m\u001b[0;34m]\u001b[0m\u001b[0;34m(\u001b[0m\u001b[0mdata_home\u001b[0m\u001b[0;34m)\u001b[0m\u001b[0;34m\u001b[0m\u001b[0;34m\u001b[0m\u001b[0m\n",
      "\u001b[0;32m/srv/conda/envs/notebook/lib/python3.7/site-packages/icepyx/core/icesat2data.py\u001b[0m in \u001b[0;36mearthdata_login\u001b[0;34m(self, uid, email)\u001b[0m\n\u001b[1;32m    572\u001b[0m \u001b[0;34m\u001b[0m\u001b[0m\n\u001b[1;32m    573\u001b[0m         \u001b[0mcapability_url\u001b[0m \u001b[0;34m=\u001b[0m \u001b[0;34mf'https://n5eil02u.ecs.nsidc.org/egi/capabilities/{self.dataset}.{self._version}.xml'\u001b[0m\u001b[0;34m\u001b[0m\u001b[0;34m\u001b[0m\u001b[0m\n\u001b[0;32m--> 574\u001b[0;31m         \u001b[0mself\u001b[0m\u001b[0;34m.\u001b[0m\u001b[0m_session\u001b[0m \u001b[0;34m=\u001b[0m \u001b[0mEarthdata\u001b[0m\u001b[0;34m(\u001b[0m\u001b[0muid\u001b[0m\u001b[0;34m,\u001b[0m\u001b[0memail\u001b[0m\u001b[0;34m,\u001b[0m\u001b[0mcapability_url\u001b[0m\u001b[0;34m)\u001b[0m\u001b[0;34m.\u001b[0m\u001b[0mlogin\u001b[0m\u001b[0;34m(\u001b[0m\u001b[0;34m)\u001b[0m\u001b[0;34m\u001b[0m\u001b[0;34m\u001b[0m\u001b[0m\n\u001b[0m\u001b[1;32m    575\u001b[0m         \u001b[0mself\u001b[0m\u001b[0;34m.\u001b[0m\u001b[0m_email\u001b[0m \u001b[0;34m=\u001b[0m \u001b[0memail\u001b[0m\u001b[0;34m\u001b[0m\u001b[0;34m\u001b[0m\u001b[0m\n\u001b[1;32m    576\u001b[0m \u001b[0;34m\u001b[0m\u001b[0m\n",
      "\u001b[0;32m/srv/conda/envs/notebook/lib/python3.7/site-packages/icepyx/core/Earthdata.py\u001b[0m in \u001b[0;36mlogin\u001b[0;34m(self)\u001b[0m\n\u001b[1;32m     86\u001b[0m         \u001b[0mEarthdata\u001b[0m \u001b[0mLogin\u001b[0m \u001b[0mpassword\u001b[0m\u001b[0;34m:\u001b[0m\u001b[0;31m \u001b[0m\u001b[0;31m \u001b[0m\u001b[0;31m·\u001b[0m\u001b[0;31m·\u001b[0m\u001b[0;31m·\u001b[0m\u001b[0;31m·\u001b[0m\u001b[0;31m·\u001b[0m\u001b[0;31m·\u001b[0m\u001b[0;31m·\u001b[0m\u001b[0;31m·\u001b[0m\u001b[0;34m\u001b[0m\u001b[0;34m\u001b[0m\u001b[0m\n\u001b[1;32m     87\u001b[0m         \"\"\"\n\u001b[0;32m---> 88\u001b[0;31m         \u001b[0mself\u001b[0m\u001b[0;34m.\u001b[0m\u001b[0mpswd\u001b[0m \u001b[0;34m=\u001b[0m \u001b[0mgetpass\u001b[0m\u001b[0;34m.\u001b[0m\u001b[0mgetpass\u001b[0m\u001b[0;34m(\u001b[0m\u001b[0;34m'Earthdata Login password: '\u001b[0m\u001b[0;34m)\u001b[0m\u001b[0;34m\u001b[0m\u001b[0;34m\u001b[0m\u001b[0m\n\u001b[0m\u001b[1;32m     89\u001b[0m         \u001b[0;32mfor\u001b[0m \u001b[0mi\u001b[0m \u001b[0;32min\u001b[0m \u001b[0mrange\u001b[0m\u001b[0;34m(\u001b[0m\u001b[0;36m5\u001b[0m\u001b[0;34m)\u001b[0m\u001b[0;34m:\u001b[0m\u001b[0;34m\u001b[0m\u001b[0;34m\u001b[0m\u001b[0m\n\u001b[1;32m     90\u001b[0m             \u001b[0;32mtry\u001b[0m\u001b[0;34m:\u001b[0m\u001b[0;34m\u001b[0m\u001b[0;34m\u001b[0m\u001b[0m\n",
      "\u001b[0;32m/srv/conda/envs/notebook/lib/python3.7/site-packages/ipykernel/kernelbase.py\u001b[0m in \u001b[0;36mgetpass\u001b[0;34m(self, prompt, stream)\u001b[0m\n\u001b[1;32m    844\u001b[0m             \u001b[0mself\u001b[0m\u001b[0;34m.\u001b[0m\u001b[0m_parent_ident\u001b[0m\u001b[0;34m,\u001b[0m\u001b[0;34m\u001b[0m\u001b[0;34m\u001b[0m\u001b[0m\n\u001b[1;32m    845\u001b[0m             \u001b[0mself\u001b[0m\u001b[0;34m.\u001b[0m\u001b[0m_parent_header\u001b[0m\u001b[0;34m,\u001b[0m\u001b[0;34m\u001b[0m\u001b[0;34m\u001b[0m\u001b[0m\n\u001b[0;32m--> 846\u001b[0;31m             \u001b[0mpassword\u001b[0m\u001b[0;34m=\u001b[0m\u001b[0;32mTrue\u001b[0m\u001b[0;34m,\u001b[0m\u001b[0;34m\u001b[0m\u001b[0;34m\u001b[0m\u001b[0m\n\u001b[0m\u001b[1;32m    847\u001b[0m         )\n\u001b[1;32m    848\u001b[0m \u001b[0;34m\u001b[0m\u001b[0m\n",
      "\u001b[0;32m/srv/conda/envs/notebook/lib/python3.7/site-packages/ipykernel/kernelbase.py\u001b[0m in \u001b[0;36m_input_request\u001b[0;34m(self, prompt, ident, parent, password)\u001b[0m\n\u001b[1;32m    902\u001b[0m             \u001b[0;32mexcept\u001b[0m \u001b[0mKeyboardInterrupt\u001b[0m\u001b[0;34m:\u001b[0m\u001b[0;34m\u001b[0m\u001b[0;34m\u001b[0m\u001b[0m\n\u001b[1;32m    903\u001b[0m                 \u001b[0;31m# re-raise KeyboardInterrupt, to truncate traceback\u001b[0m\u001b[0;34m\u001b[0m\u001b[0;34m\u001b[0m\u001b[0;34m\u001b[0m\u001b[0m\n\u001b[0;32m--> 904\u001b[0;31m                 \u001b[0;32mraise\u001b[0m \u001b[0mKeyboardInterrupt\u001b[0m\u001b[0;34m(\u001b[0m\u001b[0;34m\"Interrupted by user\"\u001b[0m\u001b[0;34m)\u001b[0m \u001b[0;32mfrom\u001b[0m \u001b[0;32mNone\u001b[0m\u001b[0;34m\u001b[0m\u001b[0;34m\u001b[0m\u001b[0m\n\u001b[0m\u001b[1;32m    905\u001b[0m             \u001b[0;32mexcept\u001b[0m \u001b[0mException\u001b[0m \u001b[0;32mas\u001b[0m \u001b[0me\u001b[0m\u001b[0;34m:\u001b[0m\u001b[0;34m\u001b[0m\u001b[0;34m\u001b[0m\u001b[0m\n\u001b[1;32m    906\u001b[0m                 \u001b[0mself\u001b[0m\u001b[0;34m.\u001b[0m\u001b[0mlog\u001b[0m\u001b[0;34m.\u001b[0m\u001b[0mwarning\u001b[0m\u001b[0;34m(\u001b[0m\u001b[0;34m\"Invalid Message:\"\u001b[0m\u001b[0;34m,\u001b[0m \u001b[0mexc_info\u001b[0m\u001b[0;34m=\u001b[0m\u001b[0;32mTrue\u001b[0m\u001b[0;34m)\u001b[0m\u001b[0;34m\u001b[0m\u001b[0;34m\u001b[0m\u001b[0m\n",
      "\u001b[0;31mKeyboardInterrupt\u001b[0m: Interrupted by user"
     ]
    }
   ],
   "source": [
    "name = 'isobelrlawrence'\n",
    "email = 'isobel.lawrence.15@ucl.ac.uk'\n",
    "\n",
    "# for file in region.avail_granules(ids=True):\n",
    "#     print(file)\n",
    "\n",
    "if not list(data_home.glob('*'+test_file+'*')):\n",
    "    print('you dont have the file')\n",
    "    region.earthdata_login(name, email)\n",
    "    region.download_granules[0](data_home)\n"
   ]
  },
  {
   "cell_type": "code",
   "execution_count": 16,
   "metadata": {},
   "outputs": [
    {
     "name": "stdout",
     "output_type": "stream",
     "text": [
      "/home/jovyan/shared/data-Isobel_Rosie/ATL03/processed_ATL03_20191008052407_01730502_003_01.h5\n",
      "Total number of files: 1\n"
     ]
    }
   ],
   "source": [
    "files = list(data_home.glob('*.h5'))\n",
    "\n",
    "for f in files[:10]: print(f)\n",
    "print('Total number of files:', len(files))"
   ]
  },
  {
   "cell_type": "markdown",
   "metadata": {},
   "source": [
    "# Plot the ATL03 data \n",
    "From land_ice_applications Notebook"
   ]
  },
  {
   "cell_type": "code",
   "execution_count": 17,
   "metadata": {},
   "outputs": [],
   "source": [
    "# the usual suspects:\n",
    "import numpy as np\n",
    "import matplotlib.pyplot as plt\n",
    "\n",
    "# specialty modules\n",
    "import h5py\n",
    "import pyproj\n",
    "\n",
    "# run matplotlib in 'widget' mode\n",
    "%matplotlib widget\n",
    "%load_ext autoreload\n",
    "%autoreload 2"
   ]
  },
  {
   "cell_type": "code",
   "execution_count": 47,
   "metadata": {},
   "outputs": [],
   "source": [
    "#from readers.read_HDF5_ATL03 import read_HDF5_ATL03\n",
    "#from readers.get_ATL03_x_atc import get_ATL03_x_atc\n",
    "\n",
    "from read_HDF5_ATL03 import read_HDF5_ATL03\n",
    "from get_ATL03_x_atc import get_ATL03_x_atc"
   ]
  },
  {
   "cell_type": "code",
   "execution_count": 38,
   "metadata": {},
   "outputs": [],
   "source": []
  },
  {
   "cell_type": "code",
   "execution_count": 28,
   "metadata": {},
   "outputs": [],
   "source": [
    "data_root='/home/jovyan/shared/data-aragon/'"
   ]
  },
  {
   "cell_type": "code",
   "execution_count": 40,
   "metadata": {},
   "outputs": [
    {
     "data": {
      "text/plain": [
       "['/home/jovyan/shared/data-aragon/download/processed_ATL03_20190807082015_06150402_003_01.h5']"
      ]
     },
     "execution_count": 40,
     "metadata": {},
     "output_type": "execute_result"
    }
   ],
   "source": [
    "import os\n",
    "import glob\n",
    "\n",
    "rgt=\"0615\"\n",
    "cycle=\"04\"\n",
    "glob.glob(os.path.join(data_root, 'download', f'*{rgt}{cycle}*.h5'))"
   ]
  },
  {
   "cell_type": "code",
   "execution_count": 48,
   "metadata": {},
   "outputs": [
    {
     "data": {
      "text/plain": [
       "<function read_HDF5_ATL03.read_HDF5_ATL03(FILENAME, ATTRIBUTES=True, VERBOSE=False)>"
      ]
     },
     "execution_count": 48,
     "metadata": {},
     "output_type": "execute_result"
    }
   ],
   "source": [
    "read_HDF5_ATL03"
   ]
  },
  {
   "cell_type": "code",
   "execution_count": 49,
   "metadata": {},
   "outputs": [
    {
     "name": "stdout",
     "output_type": "stream",
     "text": [
      "/home/jovyan/shared/data-aragon/download/processed_ATL03_20190807082015_06150402_003_01.h5\n"
     ]
    }
   ],
   "source": [
    "# read the data:\n",
    "rgt=\"0615\"\n",
    "cycle=\"04\"\n",
    "# read the IS2 data with Tyler's ATL03 reader:\n",
    "ATL03_file=glob.glob(os.path.join(data_root, 'download', f'*{rgt}{cycle}*.h5'))[0]\n",
    "print(ATL03_file)\n",
    "IS2_atl03_mds, IS2_atl03_attrs, IS2_atl03_beams =read_HDF5_ATL03(ATL03_file)\n",
    "# add x_atc to the ATL03 data structure (this function adds to the LS2_ATL03_mds dictionary)\n",
    "get_ATL03_x_atc(IS2_atl03_mds, IS2_atl03_attrs, IS2_atl03_beams)"
   ]
  },
  {
   "cell_type": "code",
   "execution_count": 50,
   "metadata": {},
   "outputs": [
    {
     "data": {
      "application/vnd.jupyter.widget-view+json": {
       "model_id": "8f0a272cf26849a590b12888e2e29362",
       "version_major": 2,
       "version_minor": 0
      },
      "text/plain": [
       "Canvas(toolbar=Toolbar(toolitems=[('Home', 'Reset original view', 'home', 'home'), ('Back', 'Back to previous …"
      ]
     },
     "metadata": {},
     "output_type": "display_data"
    },
    {
     "data": {
      "image/png": "[encoded data removed]",
      "text/plain": [
       "<Figure size 432x288 with 1 Axes>"
      ]
     },
     "metadata": {
      "needs_background": "light"
     },
     "output_type": "display_data"
    }
   ],
   "source": [
    "#-- select the beam from ATL03\n",
    "D3 = IS2_atl03_mds['gt3l']\n",
    "\n",
    "#-- create scatter plot of photon data (e.g., photon elevation vs x_atc)\n",
    "fig=plt.figure(figsize=(6,4))\n",
    "ax = fig.add_subplot(111)\n",
    "ax.plot(D3['heights']['x_atc'], D3['heights']['h_ph'],'k.',markersize=0.25, label='all photons')\n",
    "LMH=D3['heights']['signal_conf_ph'][:,3] >= 2\n",
    "ax.plot(D3['heights']['x_atc'][LMH], D3['heights']['h_ph'][LMH],'g.',markersize=0.5, label='flagged photons')\n",
    "h_leg=ax.legend()\n",
    "\n",
    "ax.set_xlabel('x_atc, m')\n",
    "ax.set_ylabel('h, m')\n",
    "plt.show()"
   ]
  },
  {
   "cell_type": "code",
   "execution_count": null,
   "metadata": {},
   "outputs": [],
   "source": []
  }
 ],
 "metadata": {
  "kernelspec": {
   "display_name": "Python 3",
   "language": "python",
   "name": "python3"
  },
  "language_info": {
   "codemirror_mode": {
    "name": "ipython",
    "version": 3
   },
   "file_extension": ".py",
   "mimetype": "text/x-python",
   "name": "python",
   "nbconvert_exporter": "python",
   "pygments_lexer": "ipython3",
   "version": "3.7.6"
  }
 },
 "nbformat": 4,
 "nbformat_minor": 4
}
