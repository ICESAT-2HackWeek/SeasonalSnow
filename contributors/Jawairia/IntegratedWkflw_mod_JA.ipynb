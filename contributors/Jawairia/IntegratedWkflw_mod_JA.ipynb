{
 "cells": [
  {
   "cell_type": "markdown",
   "metadata": {},
   "source": [
    "script based on topohack notebook-- showing data comparison between IceSat2 ATL06 and a reference ground DEM (ASO) employing tools in the topolib library"
   ]
  },
  {
   "cell_type": "code",
   "execution_count": 10,
   "metadata": {},
   "outputs": [],
   "source": [
    "# depedencies\n",
    "import getpass\n",
    "from topolib.subsetDat import subsetBBox;\n",
    "from topolib import IceSat2Data;\n",
    "import glob\n",
    "from topolib import gda_lib;\n",
    "from topolib import dwnldArctic\n",
    "import numpy as np\n",
    "import geopandas as gpd\n",
    "from multiprocessing import Pool\n",
    "import rasterio as rio\n",
    "from rasterio.plot import plotting_extent\n",
    "import rasterio.plot\n",
    "import numpy as np\n",
    "from pyproj import Proj, transform\n",
    "from icepyx import icesat2data as ipd\n",
    "# utility modules\n",
    "import sys\n",
    "import re\n",
    "#import h5py\n",
    "import matplotlib.pyplot as plt \n",
    "%matplotlib widget"
   ]
  },
  {
   "cell_type": "markdown",
   "metadata": {},
   "source": [
    "adjust parameters and bounds"
   ]
  },
  {
   "cell_type": "code",
   "execution_count": 2,
   "metadata": {},
   "outputs": [],
   "source": [
    "# inputs\n",
    "# if want to explcitly define bounding box, raster = None\n",
    "datafolder = '/home/jovyan/shared/data-aragon/'\n",
    "datafolderOut = '/home/jovyan/shared/data-aragon/ATL06/CA_atl06/' #\n",
    "\n",
    "#if have raster define raster, if not, use None\n",
    "raster = datafolder+'ASO_3M_PCDTM_USCATE_20191010_20191010.tif'\n",
    "#raster = None\n",
    "# if defining extent using the raster, then rasterBnd = 1, else rasterBnd = 2\n",
    "rasterBnd = 1\n",
    "\n",
    "if rasterBnd == None:\n",
    "    # Area of interest\n",
    "    boundaries = {\n",
    "        'LowerLeft_Lon': '-114.4', #-120.6',\n",
    "        'LowerLeft_Lat': '62.4', #37.7',\n",
    "        'UpperRight_Lon': '-114.3',#-119.0',\n",
    "        'UpperRight_Lat': '62.5',#38.94',\n",
    "    }\n",
    "#'bounding_box': '-114.4,62.446,-114.38,62.47'spatial_extent = [L,B,R,T]\n",
    "# Specify the variables of interest\n",
    "LIce_var = ['atl06_quality_summary','delta_time','h_li','hli_sigma',\\\n",
    "           'latitude','longitude','segment_id','sigma_geo_h']\n",
    "variables = {\n",
    "    'beams': [\n",
    "        '/land_ice_segments/'+LIce_var[0],\n",
    "        '/land_ice_segments/'+LIce_var[1],\n",
    "        '/land_ice_segments/'+LIce_var[2],\n",
    "        '/land_ice_segments/'+LIce_var[3],\n",
    "        '/land_ice_segments/'+LIce_var[4],\n",
    "        '/land_ice_segments/'+LIce_var[5],\n",
    "        '/land_ice_segments/'+LIce_var[6],\n",
    "        '/land_ice_segments/'+LIce_var[7],\n",
    "        '/ancillary_data/atlas_sdp_gps_epoch',\n",
    "    ],\n",
    "    'other': [\n",
    "        '/orbit_info/cycle_number',\n",
    "        '/orbit_info/rgt',\n",
    "        '/orbit_info/orbit_number',\n",
    "    ]\n",
    "}\n",
    "\n",
    "# Custom time range of interest\n",
    "# define full_per = 1\n",
    "full_per = 1\n",
    "time_range = {\n",
    "        'start_date': '2019-01-20',\n",
    "        'end_date': '2019-04-30'\n",
    "}\n",
    "\n",
    "# Enter your Earthdata Login user name\n",
    "user_id = 'jawairiaahmad'\n",
    "# Enter your email address associated with your Earthdata Login account\n",
    "email = 'jahmad@umd.edu'"
   ]
  },
  {
   "cell_type": "code",
   "execution_count": 3,
   "metadata": {},
   "outputs": [],
   "source": [
    "def subsetBBox(rast,proj_in,proj_out):\n",
    "\n",
    "    # rasterio open data\n",
    "    rB = rio.open(rast)\n",
    "    # rasterio get bounding box\n",
    "    [L,B,R,T] = rB.bounds\n",
    "\n",
    "    if proj_in == proj_out:\n",
    "        return L, R, T, B\n",
    "    else:\n",
    "        incord = Proj(init=proj_in)\n",
    "        outcord = Proj(init=proj_out)\n",
    "\n",
    "        [Left,Bottom] = transform(incord,outcord,L,B)\n",
    "        [Right,Top] = transform(incord,outcord,R,T)\n",
    "        return Left, Bottom, Right, Top"
   ]
  },
  {
   "cell_type": "code",
   "execution_count": 4,
   "metadata": {},
   "outputs": [],
   "source": [
    "import os\n",
    "import shutil\n",
    "from pprint import pprint\n",
    "%matplotlib inline\n",
    "#%load_ext autoreload\n",
    "#%autoreload 2"
   ]
  },
  {
   "cell_type": "code",
   "execution_count": 5,
   "metadata": {},
   "outputs": [
    {
     "data": {
      "text/plain": [
       "{'driver': 'GTiff',\n",
       " 'dtype': 'float32',\n",
       " 'nodata': None,\n",
       " 'width': 21623,\n",
       " 'height': 18653,\n",
       " 'count': 1,\n",
       " 'crs': CRS.from_epsg(32611),\n",
       " 'transform': Affine(3.0, 0.0, 242715.0,\n",
       "        0.0, -3.0, 4234848.0)}"
      ]
     },
     "execution_count": 5,
     "metadata": {},
     "output_type": "execute_result"
    }
   ],
   "source": [
    "#path to raster DEM\n",
    "raster_path = raster#'/home/jovyan/shared/data-aragon/ASO_3M_PCDTM_USCATE_20191010_20191010.tif'\n",
    "ds = rasterio.open(raster_path)\n",
    "dem = ds.read(1)\n",
    "xmin,ymin,xmax,ymax = ds.bounds\n",
    "ds.crs\n",
    "raster = rio.open(raster_path)\n",
    "raster.meta"
   ]
  },
  {
   "cell_type": "code",
   "execution_count": 6,
   "metadata": {},
   "outputs": [
    {
     "name": "stderr",
     "output_type": "stream",
     "text": [
      "/srv/conda/envs/notebook/lib/python3.7/site-packages/pyproj/crs/crs.py:53: FutureWarning: '+init=<authority>:<code>' syntax is deprecated. '<authority>:<code>' is the preferred initialization method. When making the change, be mindful of axis order changes: https://pyproj4.github.io/pyproj/stable/gotchas.html#axis-order-changes-in-proj-6\n",
      "  return _prepare_from_string(\" \".join(pjargs))\n",
      "/srv/conda/envs/notebook/lib/python3.7/site-packages/pyproj/crs/crs.py:294: FutureWarning: '+init=<authority>:<code>' syntax is deprecated. '<authority>:<code>' is the preferred initialization method. When making the change, be mindful of axis order changes: https://pyproj4.github.io/pyproj/stable/gotchas.html#axis-order-changes-in-proj-6\n",
      "  projstring = _prepare_from_string(\" \".join((projstring, projkwargs)))\n",
      "/srv/conda/envs/notebook/lib/python3.7/site-packages/pyproj/crs/crs.py:53: FutureWarning: '+init=<authority>:<code>' syntax is deprecated. '<authority>:<code>' is the preferred initialization method. When making the change, be mindful of axis order changes: https://pyproj4.github.io/pyproj/stable/gotchas.html#axis-order-changes-in-proj-6\n",
      "  return _prepare_from_string(\" \".join(pjargs))\n",
      "/srv/conda/envs/notebook/lib/python3.7/site-packages/pyproj/crs/crs.py:294: FutureWarning: '+init=<authority>:<code>' syntax is deprecated. '<authority>:<code>' is the preferred initialization method. When making the change, be mindful of axis order changes: https://pyproj4.github.io/pyproj/stable/gotchas.html#axis-order-changes-in-proj-6\n",
      "  projstring = _prepare_from_string(\" \".join((projstring, projkwargs)))\n",
      "/srv/conda/envs/notebook/lib/python3.7/site-packages/ipykernel_launcher.py:14: DeprecationWarning: This function is deprecated. See: https://pyproj4.github.io/pyproj/stable/gotchas.html#upgrading-to-pyproj-2-from-pyproj-1\n",
      "  \n",
      "/srv/conda/envs/notebook/lib/python3.7/site-packages/ipykernel_launcher.py:15: DeprecationWarning: This function is deprecated. See: https://pyproj4.github.io/pyproj/stable/gotchas.html#upgrading-to-pyproj-2-from-pyproj-1\n",
      "  from ipykernel import kernelapp as app\n"
     ]
    },
    {
     "data": {
      "text/plain": [
       "(-119.91910216526328,\n",
       " 37.721153213268956,\n",
       " -119.19868268078534,\n",
       " 38.24106453792272)"
      ]
     },
     "execution_count": 6,
     "metadata": {},
     "output_type": "execute_result"
    }
   ],
   "source": [
    "[L,B,R,T] = subsetBBox(raster_path,raster.crs,'epsg:4326') # now read projection from DEM, convert to WGS84\n",
    "    #[L,B,R,T] = subsetBBox(raster,'epsg:32611','epsg:4326')\n",
    "    # Area of interest\n",
    "boundaries = {\n",
    "    'LowerLeft_Lon': L,\n",
    "    'LowerLeft_Lat': B,\n",
    "    'UpperRight_Lon': R,\n",
    "    'UpperRight_Lat': T,\n",
    "}\n",
    "L,B,R,T"
   ]
  },
  {
   "cell_type": "code",
   "execution_count": 17,
   "metadata": {},
   "outputs": [
    {
     "name": "stdin",
     "output_type": "stream",
     "text": [
      "Earthdata Login password:  ··········\n"
     ]
    }
   ],
   "source": [
    "# Earthdata Login credentials\n",
    "password = getpass.getpass('Earthdata Login password: ')\n",
    "\n",
    "# Setup a search session\n",
    "search = IceSat2Data(user_id, password, variables=variables)"
   ]
  },
  {
   "cell_type": "code",
   "execution_count": 60,
   "metadata": {},
   "outputs": [
    {
     "name": "stdout",
     "output_type": "stream",
     "text": [
      "Number of granules:\n",
      "    40\n",
      "Average size of granules in MB:\n",
      "    45.2853816747625\n",
      "Total size in MB:\n",
      "    1811.4152669905002\n",
      "Number of granules:\n",
      "    8\n",
      "Average size of granules in MB:\n",
      "    61.3552069664\n",
      "Total size in MB:\n",
      "    490.84165573120004\n"
     ]
    },
    {
     "data": {
      "text/plain": [
       "8"
      ]
     },
     "execution_count": 60,
     "metadata": {},
     "output_type": "execute_result"
    }
   ],
   "source": [
    "# Search for granules in bounding box without download through all datasets\n",
    "search.search_granules(bounding_box=boundaries)\n",
    "\n",
    "# Search for granules in bounding box without download for specific time range\n",
    "search.search_granules(bounding_box=boundaries, time_range=time_range)"
   ]
  },
  {
   "cell_type": "code",
   "execution_count": 61,
   "metadata": {},
   "outputs": [
    {
     "name": "stdout",
     "output_type": "stream",
     "text": [
      "Number of granules:\n",
      "    8\n",
      "Average size of granules in MB:\n",
      "    61.3552069664\n",
      "Total size in MB:\n",
      "    490.84165573120004\n",
      "Order:  1\n",
      "Request HTTP response:  201\n",
      "order ID:  5000000701984\n",
      "Data request  1  is submitting...\n",
      "Initial request status is  processing\n",
      "Status is not complete. Trying again.\n",
      "Retry request status is:  complete_with_errors\n",
      "error messages:\n",
      "['177534408:NoMatchingData - No data found that matched subset constraints. '\n",
      " 'Exit code 3.',\n",
      " '178003329:NoMatchingData - No data found that matched subset constraints. '\n",
      " 'Exit code 3.',\n",
      " '177973035:NoMatchingData - No data found that matched subset constraints. '\n",
      " 'Exit code 3.',\n",
      " '178001530:NoMatchingData - No data found that matched subset constraints. '\n",
      " 'Exit code 3.',\n",
      " '178019838:NoMatchingData - No data found that matched subset constraints. '\n",
      " 'Exit code 3.',\n",
      " 'PT2.570S',\n",
      " 'ICESAT2']\n",
      "Beginning download of zipped output...\n",
      "Data request 1 is complete.\n"
     ]
    },
    {
     "ename": "OSError",
     "evalue": "[Errno 39] Directory not empty: '/home/jovyan/SeasonalSnow/contributors/Jawairia/.ipynb_checkpoints'",
     "output_type": "error",
     "traceback": [
      "\u001b[0;31m---------------------------------------------------------------------------\u001b[0m",
      "\u001b[0;31mOSError\u001b[0m                                   Traceback (most recent call last)",
      "\u001b[0;32m<ipython-input-61-3096ce11c4d6>\u001b[0m in \u001b[0;36m<module>\u001b[0;34m\u001b[0m\n\u001b[1;32m     11\u001b[0m     \u001b[0mdatafolderOut\u001b[0m\u001b[0;34m,\u001b[0m\u001b[0;34m\u001b[0m\u001b[0;34m\u001b[0m\u001b[0m\n\u001b[1;32m     12\u001b[0m     \u001b[0mboundaries\u001b[0m\u001b[0;34m,\u001b[0m\u001b[0;34m\u001b[0m\u001b[0;34m\u001b[0m\u001b[0m\n\u001b[0;32m---> 13\u001b[0;31m     \u001b[0;34m**\u001b[0m\u001b[0mparams\u001b[0m\u001b[0;34m\u001b[0m\u001b[0;34m\u001b[0m\u001b[0m\n\u001b[0m\u001b[1;32m     14\u001b[0m )\n",
      "\u001b[0;32m~/topohack/topolib/icesat2_data.py\u001b[0m in \u001b[0;36morder_data\u001b[0;34m(self, email, destination_folder, bounding_box, **kwargs)\u001b[0m\n\u001b[1;32m    366\u001b[0m                 \u001b[0mprint\u001b[0m\u001b[0;34m(\u001b[0m\u001b[0;34m'Request failed.'\u001b[0m\u001b[0;34m)\u001b[0m\u001b[0;34m\u001b[0m\u001b[0;34m\u001b[0m\u001b[0m\n\u001b[1;32m    367\u001b[0m \u001b[0;34m\u001b[0m\u001b[0m\n\u001b[0;32m--> 368\u001b[0;31m         \u001b[0mself\u001b[0m\u001b[0;34m.\u001b[0m\u001b[0mclean_outputs\u001b[0m\u001b[0;34m(\u001b[0m\u001b[0mdestination_folder\u001b[0m\u001b[0;34m)\u001b[0m\u001b[0;34m\u001b[0m\u001b[0;34m\u001b[0m\u001b[0m\n\u001b[0m\u001b[1;32m    369\u001b[0m \u001b[0;34m\u001b[0m\u001b[0m\n\u001b[1;32m    370\u001b[0m     \u001b[0;32mdef\u001b[0m \u001b[0mget_capabilities\u001b[0m\u001b[0;34m(\u001b[0m\u001b[0mself\u001b[0m\u001b[0;34m)\u001b[0m\u001b[0;34m:\u001b[0m\u001b[0;34m\u001b[0m\u001b[0;34m\u001b[0m\u001b[0m\n",
      "\u001b[0;32m~/topohack/topolib/icesat2_data.py\u001b[0m in \u001b[0;36mclean_outputs\u001b[0;34m(self, destination_folder)\u001b[0m\n\u001b[1;32m    457\u001b[0m                     \u001b[0;32mpass\u001b[0m\u001b[0;34m\u001b[0m\u001b[0;34m\u001b[0m\u001b[0m\n\u001b[1;32m    458\u001b[0m             \u001b[0;32mfor\u001b[0m \u001b[0mname\u001b[0m \u001b[0;32min\u001b[0m \u001b[0mdirs\u001b[0m\u001b[0;34m:\u001b[0m\u001b[0;34m\u001b[0m\u001b[0;34m\u001b[0m\u001b[0m\n\u001b[0;32m--> 459\u001b[0;31m                 \u001b[0mos\u001b[0m\u001b[0;34m.\u001b[0m\u001b[0mrmdir\u001b[0m\u001b[0;34m(\u001b[0m\u001b[0mos\u001b[0m\u001b[0;34m.\u001b[0m\u001b[0mpath\u001b[0m\u001b[0;34m.\u001b[0m\u001b[0mjoin\u001b[0m\u001b[0;34m(\u001b[0m\u001b[0mroot\u001b[0m\u001b[0;34m,\u001b[0m \u001b[0mname\u001b[0m\u001b[0;34m)\u001b[0m\u001b[0;34m)\u001b[0m\u001b[0;34m\u001b[0m\u001b[0;34m\u001b[0m\u001b[0m\n\u001b[0m",
      "\u001b[0;31mOSError\u001b[0m: [Errno 39] Directory not empty: '/home/jovyan/SeasonalSnow/contributors/Jawairia/.ipynb_checkpoints'"
     ]
    }
   ],
   "source": [
    "# NOTE: file paths have to be explicitly defined \n",
    "# BEFORE submitting \n",
    "\n",
    "params = {}\n",
    "if full_per:\n",
    "    params['time_range'] = time_range\n",
    "\n",
    "# Submit a download order to NSIDC with no time restriction\n",
    "search.order_data(\n",
    "    email,\n",
    "    datafolderOut,\n",
    "    boundaries,\n",
    "    **params\n",
    ")"
   ]
  },
  {
   "cell_type": "code",
   "execution_count": 7,
   "metadata": {},
   "outputs": [],
   "source": [
    "# glob to list of files\n",
    "ATL06_list = glob.glob(datafolderOut+'*.h5')"
   ]
  },
  {
   "cell_type": "code",
   "execution_count": 8,
   "metadata": {},
   "outputs": [
    {
     "data": {
      "text/plain": [
       "['/home/jovyan/SeasonalSnow/contributors/Jawairia/processed_ATL06_20191008182255_01810506_003_01.h5']"
      ]
     },
     "execution_count": 8,
     "metadata": {},
     "output_type": "execute_result"
    }
   ],
   "source": [
    "# del ATL06_list[2] # x.to_crs crashed on this file\n",
    "ATL06_list"
   ]
  },
  {
   "cell_type": "code",
   "execution_count": 5,
   "metadata": {},
   "outputs": [],
   "source": [
    "# read hdf5 into a geodataframe\n",
    "dataset_dict={'land_ice_segments':LIce_var, 'land_ice_segments/ground_track':['x_atc']}\n"
   ]
  },
  {
   "cell_type": "code",
   "execution_count": 79,
   "metadata": {},
   "outputs": [
    {
     "name": "stderr",
     "output_type": "stream",
     "text": [
      "/home/jovyan/topohack/topolib/gda_lib.py:33: H5pyDeprecationWarning: The default file mode will change to 'r' (read-only) in h5py 3.0. To suppress this warning, pass the mode you need to h5py.File(), or set the global default h5.get_config().default_file_mode, or set the environment variable H5PY_DEFAULT_READONLY=1. Available modes are: 'r', 'r+', 'w', 'w-'/'x', 'a'. See the docs for details.\n",
      "  with h5py.File(filename) as h5f:\n",
      "/srv/conda/envs/notebook/lib/python3.7/site-packages/pyproj/crs/crs.py:53: FutureWarning: '+init=<authority>:<code>' syntax is deprecated. '<authority>:<code>' is the preferred initialization method. When making the change, be mindful of axis order changes: https://pyproj4.github.io/pyproj/stable/gotchas.html#axis-order-changes-in-proj-6\n",
      "  return _prepare_from_string(\" \".join(pjargs))\n"
     ]
    }
   ],
   "source": [
    "## use this box if looking at one .h5 file -- one track at a certain time\n",
    "ATL06_gdf_list = [gda_lib.ATL06_2_gdf(ATL06_list[0],dataset_dict)]\n",
    "ATL06_gdf_list = [ATL06_gdf_list[0].to_crs(ds.crs)]\n",
    "big_gdf = gda_lib.concat_gdf(ATL06_gdf_list)\n",
    "#ATL06_gdf_list[0]"
   ]
  },
  {
   "cell_type": "code",
   "execution_count": 9,
   "metadata": {},
   "outputs": [
    {
     "name": "stderr",
     "output_type": "stream",
     "text": [
      "/home/jovyan/topohack/topolib/gda_lib.py:33: H5pyDeprecationWarning: The default file mode will change to 'r' (read-only) in h5py 3.0. To suppress this warning, pass the mode you need to h5py.File(), or set the global default h5.get_config().default_file_mode, or set the environment variable H5PY_DEFAULT_READONLY=1. Available modes are: 'r', 'r+', 'w', 'w-'/'x', 'a'. See the docs for details.\n",
      "  with h5py.File(filename) as h5f:\n",
      "/srv/conda/envs/notebook/lib/python3.7/site-packages/pyproj/crs/crs.py:53: FutureWarning: '+init=<authority>:<code>' syntax is deprecated. '<authority>:<code>' is the preferred initialization method. When making the change, be mindful of axis order changes: https://pyproj4.github.io/pyproj/stable/gotchas.html#axis-order-changes-in-proj-6\n",
      "  return _prepare_from_string(\" \".join(pjargs))\n"
     ]
    }
   ],
   "source": [
    "## use this box if looking at more than one .h5 file -- multiple tracks or same track at different times\n",
    "#ATL06_gdf_list = [gda_lib.ATL06_2_gdf(x,dataset_dict) for x in ATL06_list]\n",
    "#ATL06_gdf_list = [x.to_crs(ds.crs) for x in ATL06_gdf_list]\n",
    "#ATL06_gdf_list;\n",
    "#big_gdf = gda_lib.concat_gdf(ATL06_gdf_list)"
   ]
  },
  {
   "cell_type": "code",
   "execution_count": 11,
   "metadata": {},
   "outputs": [
    {
     "data": {
      "application/vnd.jupyter.widget-view+json": {
       "model_id": "8b840624cf0f4623a48e142437410cfc",
       "version_major": 2,
       "version_minor": 0
      },
      "text/plain": [
       "Canvas(toolbar=Toolbar(toolitems=[('Home', 'Reset original view', 'home', 'home'), ('Back', 'Back to previous …"
      ]
     },
     "metadata": {},
     "output_type": "display_data"
    }
   ],
   "source": [
    "#plot DEM and overlapping ATL06 lines\n",
    "%matplotlib inline\n",
    "\n",
    "fig,ax = plt.subplots(figsize=(10,8))\n",
    "im = ax.imshow(dem,cmap='gray',extent=[xmin,xmax,ymin,ymax])\n",
    "#ATL06_gdf_list[0].plot(ax=ax)\n",
    "for gdf in ATL06_gdf_list:\n",
    "    gdf.plot(ax=ax)"
   ]
  },
  {
   "cell_type": "code",
   "execution_count": 12,
   "metadata": {},
   "outputs": [],
   "source": [
    "# separate flight tracks for line-by-line comparison\n",
    "#df1,df2,df3,df4,df5,df6 = [x for x_,x in ATL06_gdf_list[1].groupby(ATL06_gdf_list[1]['p_b'])] #pick 1 ATL06 and seperate it into 6\n",
    "df1,df2,df3,df4,df5,df6 = [x for x_,x in ATL06_gdf_list[0].groupby(ATL06_gdf_list[0]['p_b'])] #pick 1 ATL06 and seperate it into 6\n",
    "df_list = [df3]#,df3,df5]#,df2,df3,df4,df5,df6]\n",
    "#df_list\n"
   ]
  },
  {
   "cell_type": "code",
   "execution_count": 13,
   "metadata": {},
   "outputs": [
    {
     "data": {
      "application/vnd.jupyter.widget-view+json": {
       "model_id": "7962a34868ad461a9d92ca877082fadd",
       "version_major": 2,
       "version_minor": 0
      },
      "text/plain": [
       "Canvas(toolbar=Toolbar(toolitems=[('Home', 'Reset original view', 'home', 'home'), ('Back', 'Back to previous …"
      ]
     },
     "metadata": {},
     "output_type": "display_data"
    },
    {
     "name": "stdout",
     "output_type": "stream",
     "text": [
      "0.2736438998035678 2.8596413610845173 0.015976457824357932\n"
     ]
    }
   ],
   "source": [
    "# comparison of ground data and ATL06 using a 20m buffer sampler\n",
    "# colors represent the flight lines shown above\n",
    "df_test_big = gda_lib.buffer_sampler(ds,big_gdf,20,ret_gdf=True)\n",
    "df_test_big['snow_on_off'] = df_test_big['h_li']-df_test_big['med']\n",
    "\n",
    "fig,ax = plt.subplots()\n",
    "for gdf in df_list:\n",
    "    df_test = gda_lib.buffer_sampler(ds,gdf,20,ret_gdf=True)\n",
    "    df_test['snow_on_off'] = df_test['h_li']-df_test['med']\n",
    "    ax.scatter(df_test['latitude'],df_test['snow_on_off'],label='Beam:'+df_test['p_b'][0])\n",
    "    ax.set_ylabel('Diff. b/t h_li and DEM')\n",
    "    ax.set_xlabel('latitude')\n",
    "    plt.legend()\n",
    "    print(df_test['snow_on_off'].mean(),df_test['snow_on_off'].std(),100*df_test['snow_on_off'].mean()/(df_test['h_li'].max()-df_test['h_li'].min()))\n",
    "# df_test['snow_on_off'].hist(bins=30)\n",
    "\n",
    "big_gdf['diff'] = df_test_big['snow_on_off']"
   ]
  },
  {
   "cell_type": "code",
   "execution_count": 14,
   "metadata": {},
   "outputs": [
    {
     "data": {
      "application/vnd.jupyter.widget-view+json": {
       "model_id": "4ff3609c4f2e4b71942fc2511c037b2b",
       "version_major": 2,
       "version_minor": 0
      },
      "text/plain": [
       "Canvas(toolbar=Toolbar(toolitems=[('Home', 'Reset original view', 'home', 'home'), ('Back', 'Back to previous …"
      ]
     },
     "metadata": {},
     "output_type": "display_data"
    },
    {
     "data": {
      "text/plain": [
       "<matplotlib.axes._subplots.AxesSubplot at 0x7fcfe7593810>"
      ]
     },
     "execution_count": 14,
     "metadata": {},
     "output_type": "execute_result"
    }
   ],
   "source": [
    "# point-by-point comparison\n",
    "fig,ax = plt.subplots(figsize=(10,8))\n",
    "im = ax.imshow(dem,cmap='inferno',extent=[xmin,xmax,ymin,ymax])\n",
    "big_gdf.plot('h_li',legend=True,ax=ax,cmap='inferno',s=1)"
   ]
  },
  {
   "cell_type": "code",
   "execution_count": 20,
   "metadata": {},
   "outputs": [
    {
     "data": {
      "text/plain": [
       "['/home/jovyan/shared/data-aragon/ATL06/canada_lake_domain/processed_ATL06_20190128175143_04780203_003_01.h5',\n",
       " '/home/jovyan/shared/data-aragon/ATL06/canada_lake_domain/processed_ATL06_20190429133124_04780303_003_01.h5']"
      ]
     },
     "execution_count": 20,
     "metadata": {},
     "output_type": "execute_result"
    }
   ],
   "source": [
    "## comparison of ATL06 data over the same track from two different time periods\n",
    "datafolderOut2 = '/home/jovyan/shared/data-aragon/ATL06/canada_lake_domain/'\n",
    "ATL06_list2 = glob.glob(datafolderOut2+'*.h5')\n",
    "ATL06_list2"
   ]
  },
  {
   "cell_type": "code",
   "execution_count": 21,
   "metadata": {},
   "outputs": [
    {
     "name": "stderr",
     "output_type": "stream",
     "text": [
      "/srv/conda/envs/notebook/lib/python3.7/site-packages/pyproj/crs/crs.py:53: FutureWarning: '+init=<authority>:<code>' syntax is deprecated. '<authority>:<code>' is the preferred initialization method. When making the change, be mindful of axis order changes: https://pyproj4.github.io/pyproj/stable/gotchas.html#axis-order-changes-in-proj-6\n",
      "  return _prepare_from_string(\" \".join(pjargs))\n"
     ]
    }
   ],
   "source": [
    "## use this box if looking at more than one .h5 file -- multiple tracks or same track at different times\n",
    "ATL06_gdf_list2 = [gda_lib.ATL06_2_gdf(x,dataset_dict) for x in ATL06_list2]\n",
    "#ATL06_gdf_list2 = [x.to_crs(ds.crs) for x in ATL06_gdf_list2]\n",
    "big_gdf2 = gda_lib.concat_gdf(ATL06_gdf_list2)\n",
    "#ATL06_gdf_list2[1]"
   ]
  },
  {
   "cell_type": "code",
   "execution_count": 22,
   "metadata": {},
   "outputs": [],
   "source": [
    "df1_a,df2_a = [x for x_,x in ATL06_gdf_list2[0].groupby(ATL06_gdf_list2[0]['p_b'])] #pick 1 ATL06 and seperate it into 6\n",
    "df1_b,df2_b = [x for x_,x in ATL06_gdf_list2[1].groupby(ATL06_gdf_list2[1]['p_b'])] #pick 1 ATL06 and seperate it into 6\n",
    "#df_list2 = [df1_b,df2_b,df3_b,df4_b,df5_b,df6_b] ,,df3_b,df4_b,df5_b,df6_b\n",
    "#df_list2;"
   ]
  },
  {
   "cell_type": "code",
   "execution_count": 23,
   "metadata": {},
   "outputs": [
    {
     "data": {
      "application/vnd.jupyter.widget-view+json": {
       "model_id": "c7ef5676e0e4468ab536a7484b00ca3c",
       "version_major": 2,
       "version_minor": 0
      },
      "text/plain": [
       "Canvas(toolbar=Toolbar(toolitems=[('Home', 'Reset original view', 'home', 'home'), ('Back', 'Back to previous …"
      ]
     },
     "metadata": {},
     "output_type": "display_data"
    },
    {
     "name": "stdout",
     "output_type": "stream",
     "text": [
      "33933149.01369724 41779929.63442679\n"
     ]
    }
   ],
   "source": [
    "fig,ax = plt.subplots(figsize=(6,5))\n",
    "ax.scatter(df1_a['latitude'],df1_a['h_li'],c='blue',label='Jan-Beam:'+df1_a['p_b'][0])\n",
    "ax.scatter(df1_b['latitude'],df1_b['h_li'],c='green',label='Apr-Beam:'+df1_b['p_b'][1])\n",
    "ax.scatter(df2_a['latitude'],df2_a['h_li'],c='red',label='Jan-Beam:'+df2_a['p_b'][0])\n",
    "ax.scatter(df2_b['latitude'],df2_b['h_li'],c='cyan',label='Apr-Beam:'+df2_b['p_b'][1])\n",
    "ax.set_ylabel('h_li')\n",
    "ax.set_xlabel('latitude')\n",
    "plt.legend()\n",
    "print(df1_a['delta_time'][0],df1_b['delta_time'][0])\n"
   ]
  },
  {
   "cell_type": "code",
   "execution_count": null,
   "metadata": {},
   "outputs": [],
   "source": []
  },
  {
   "cell_type": "code",
   "execution_count": null,
   "metadata": {},
   "outputs": [],
   "source": []
  }
 ],
 "metadata": {
  "kernelspec": {
   "display_name": "Python 3",
   "language": "python",
   "name": "python3"
  },
  "language_info": {
   "codemirror_mode": {
    "name": "ipython",
    "version": 3
   },
   "file_extension": ".py",
   "mimetype": "text/x-python",
   "name": "python",
   "nbconvert_exporter": "python",
   "pygments_lexer": "ipython3",
   "version": "3.7.6"
  }
 },
 "nbformat": 4,
 "nbformat_minor": 4
}
